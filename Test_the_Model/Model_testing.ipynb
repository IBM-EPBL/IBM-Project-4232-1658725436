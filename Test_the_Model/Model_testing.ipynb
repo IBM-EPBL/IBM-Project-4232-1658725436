{
 "cells": [
  {
   "cell_type": "markdown",
   "id": "1ff3f68d",
   "metadata": {},
   "source": [
    "**Test the model**"
   ]
  },
  {
   "cell_type": "markdown",
   "id": "6ed5aa04",
   "metadata": {},
   "source": [
    "Importing packages and loading saved model"
   ]
  },
  {
   "cell_type": "code",
   "execution_count": 2,
   "id": "012d2a90",
   "metadata": {},
   "outputs": [],
   "source": [
    "from keras.models import load_model\n",
    "import numpy as numpy\n",
    "import cv2"
   ]
  },
  {
   "cell_type": "code",
   "execution_count": 3,
   "id": "f8986ab9",
   "metadata": {},
   "outputs": [],
   "source": [
    "model=load_model('aslpng1.h5')"
   ]
  },
  {
   "cell_type": "markdown",
   "id": "1b5fd38f",
   "metadata": {},
   "source": [
    "Predicting test image"
   ]
  },
  {
   "cell_type": "code",
   "execution_count": 5,
   "id": "ce6118f3",
   "metadata": {},
   "outputs": [],
   "source": [
    "from skimage.transform import resize\n",
    "def detect(frame):\n",
    "  img = resize(frame,(64,64,1))\n",
    "  img = np.expand_dims(img,axis=0)\n",
    "  if(np.max(img)>1):\n",
    "    img = img/255.0\n",
    "  prediction = model.predict(img)\n",
    "  print(prediction)\n",
    "  prediction = np.argmax(prediction,axis=1)\n",
    "  print(prediction)"
   ]
  },
  {
   "cell_type": "code",
   "execution_count": 26,
   "id": "a25e0257",
   "metadata": {
    "colab": {
     "base_uri": "https://localhost:8080/"
    },
    "id": "bdi1cEHebj35",
    "outputId": "147bc04d-4759-43cd-90ab-fd53ee38317e",
    "scrolled": true
   },
   "outputs": [
    {
     "name": "stdout",
     "output_type": "stream",
     "text": [
      "1/1 [==============================] - 0s 25ms/step\n",
      "[[2.9662006e-09 3.0511607e-09 5.7518361e-07 2.6636766e-09 7.6029876e-09\n",
      "  1.4324395e-08 9.9982303e-01 1.7639149e-04 1.6517550e-09]]\n",
      "[6]\n"
     ]
    }
   ],
   "source": [
    "frame=cv2.imread('/content/Dataset/test_set/G/1.png')\n",
    "data = detect(frame)"
   ]
  },
  {
   "cell_type": "code",
   "execution_count": null,
   "id": "ad2649a9",
   "metadata": {},
   "outputs": [],
   "source": []
  }
 ],
 "metadata": {
  "kernelspec": {
   "display_name": "Python 3",
   "language": "python",
   "name": "python3"
  },
  "language_info": {
   "codemirror_mode": {
    "name": "ipython",
    "version": 3
   },
   "file_extension": ".py",
   "mimetype": "text/x-python",
   "name": "python",
   "nbconvert_exporter": "python",
   "pygments_lexer": "ipython3",
   "version": "3.9.4"
  }
 },
 "nbformat": 4,
 "nbformat_minor": 5
}
