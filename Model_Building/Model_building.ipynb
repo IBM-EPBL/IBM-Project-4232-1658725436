{
 "cells": [
  {
   "cell_type": "markdown",
   "id": "b5ba564c",
   "metadata": {},
   "source": [
    "**MODEL BUILDING**"
   ]
  },
  {
   "cell_type": "markdown",
   "id": "b8e6a863",
   "metadata": {},
   "source": [
    "IMPORTING REQUIRED LIBRARIES"
   ]
  },
  {
   "cell_type": "code",
   "execution_count": 1,
   "id": "3e07b328",
   "metadata": {},
   "outputs": [],
   "source": [
    "from keras.models import Sequential\n",
    "from keras.layers import Dense\n",
    "from keras.layers import Convolution2D\n",
    "from keras.layers import MaxPooling2D\n",
    "from keras.layers import Dropout\n",
    "from keras.layers import Flatten"
   ]
  },
  {
   "cell_type": "markdown",
   "id": "1678abcf",
   "metadata": {},
   "source": [
    "Model Initialization"
   ]
  },
  {
   "cell_type": "code",
   "execution_count": 2,
   "id": "bdb00e66",
   "metadata": {},
   "outputs": [],
   "source": [
    "model = Sequential()"
   ]
  },
  {
   "cell_type": "markdown",
   "id": "eb3e5694",
   "metadata": {},
   "source": [
    "Adding Convolution Layer"
   ]
  },
  {
   "cell_type": "code",
   "execution_count": 3,
   "id": "8ea5c505",
   "metadata": {},
   "outputs": [],
   "source": [
    "model.add(Convolution2D(32,(3,3), input_shape=(64,64,1), activation = 'relu'))"
   ]
  },
  {
   "cell_type": "markdown",
   "id": "7fda34e2",
   "metadata": {},
   "source": [
    "Adding pooling layer"
   ]
  },
  {
   "cell_type": "code",
   "execution_count": 5,
   "id": "e1061903",
   "metadata": {},
   "outputs": [],
   "source": [
    "model.add(MaxPooling2D(pool_size=(2,2)))"
   ]
  },
  {
   "cell_type": "markdown",
   "id": "92fc5e4e",
   "metadata": {},
   "source": [
    "Adding flatten layer"
   ]
  },
  {
   "cell_type": "code",
   "execution_count": 6,
   "id": "49ee72d7",
   "metadata": {},
   "outputs": [],
   "source": [
    "model.add(Flatten())"
   ]
  },
  {
   "cell_type": "markdown",
   "id": "7f97c841",
   "metadata": {},
   "source": [
    "Adding Dense layer"
   ]
  },
  {
   "cell_type": "code",
   "execution_count": 8,
   "id": "a735f394",
   "metadata": {},
   "outputs": [],
   "source": [
    "model.add(Dense(units=512, activation = 'relu'))"
   ]
  },
  {
   "cell_type": "code",
   "execution_count": 9,
   "id": "3543c3ce",
   "metadata": {},
   "outputs": [],
   "source": [
    "model.add(Dense(units=9, activation='softmax'))"
   ]
  },
  {
   "cell_type": "markdown",
   "id": "8c7bb1ad",
   "metadata": {},
   "source": [
    "Model compilation"
   ]
  },
  {
   "cell_type": "code",
   "execution_count": 10,
   "id": "67813d38",
   "metadata": {},
   "outputs": [],
   "source": [
    "model.compile(loss='categorical_crossentropy', optimizer='adam', metrics=['accuracy'])"
   ]
  },
  {
   "cell_type": "markdown",
   "id": "1eced5ed",
   "metadata": {},
   "source": [
    "Fit and Save the model"
   ]
  },
  {
   "cell_type": "code",
   "execution_count": 31,
   "id": "ce8c16be",
   "metadata": {},
   "outputs": [
    {
     "name": "stderr",
     "output_type": "stream",
     "text": [
      "<ipython-input-31-3fc17a42cd10>:1: UserWarning: `Model.fit_generator` is deprecated and will be removed in a future version. Please use `Model.fit`, which supports generators.\n",
      "  model.fit_generator(x_train, steps_per_epoch=24, epochs=10, validation_data=x_test, validation_steps=40)\n"
     ]
    },
    {
     "name": "stdout",
     "output_type": "stream",
     "text": [
      "Epoch 1/10\n",
      "24/24 [==============================] - ETA: 0s - loss: 0.9811 - accuracy: 0.7111WARNING:tensorflow:Your input ran out of data; interrupting training. Make sure that your dataset or generator can generate at least `steps_per_epoch * epochs` batches (in this case, 40 batches). You may need to use the repeat() function when building your dataset.\n",
      "24/24 [==============================] - 256s 10s/step - loss: 0.9811 - accuracy: 0.7111 - val_loss: 0.3909 - val_accuracy: 0.9040\n",
      "Epoch 2/10\n",
      "24/24 [==============================] - 124s 5s/step - loss: 0.2234 - accuracy: 0.9383\n",
      "Epoch 3/10\n",
      "24/24 [==============================] - 124s 5s/step - loss: 0.1113 - accuracy: 0.9729\n",
      "Epoch 4/10\n",
      "24/24 [==============================] - 165s 7s/step - loss: 0.0730 - accuracy: 0.9801\n",
      "Epoch 5/10\n",
      "24/24 [==============================] - 97s 4s/step - loss: 0.0423 - accuracy: 0.9915\n",
      "Epoch 6/10\n",
      "24/24 [==============================] - 132s 5s/step - loss: 0.0304 - accuracy: 0.9932\n",
      "Epoch 7/10\n",
      "24/24 [==============================] - 102s 4s/step - loss: 0.0210 - accuracy: 0.9956\n",
      "Epoch 8/10\n",
      "24/24 [==============================] - 98s 4s/step - loss: 0.0186 - accuracy: 0.9949\n",
      "Epoch 9/10\n",
      "24/24 [==============================] - 126s 5s/step - loss: 0.0135 - accuracy: 0.9980\n",
      "Epoch 10/10\n",
      "24/24 [==============================] - 99s 4s/step - loss: 0.0141 - accuracy: 0.9972\n"
     ]
    },
    {
     "data": {
      "text/plain": [
       "<keras.callbacks.History at 0x2123a113910>"
      ]
     },
     "execution_count": 31,
     "metadata": {},
     "output_type": "execute_result"
    }
   ],
   "source": [
    "model.fit_generator(x_train, steps_per_epoch=24, epochs=10, validation_data=x_test, validation_steps=40)"
   ]
  },
  {
   "cell_type": "code",
   "execution_count": 32,
   "id": "f9126550",
   "metadata": {},
   "outputs": [],
   "source": [
    "model.save('aslpng1.h5')"
   ]
  },
  {
   "cell_type": "code",
   "execution_count": null,
   "id": "85b96077",
   "metadata": {},
   "outputs": [],
   "source": []
  }
 ],
 "metadata": {
  "kernelspec": {
   "display_name": "Python 3",
   "language": "python",
   "name": "python3"
  },
  "language_info": {
   "codemirror_mode": {
    "name": "ipython",
    "version": 3
   },
   "file_extension": ".py",
   "mimetype": "text/x-python",
   "name": "python",
   "nbconvert_exporter": "python",
   "pygments_lexer": "ipython3",
   "version": "3.9.4"
  }
 },
 "nbformat": 4,
 "nbformat_minor": 5
}
